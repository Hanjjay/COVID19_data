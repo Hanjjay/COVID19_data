{
 "cells": [
  {
   "cell_type": "markdown",
   "metadata": {},
   "source": [
    "\n",
    "### 한국에서 코로나 바이러스에 감염된 사람들 데이터셋 처리\n",
    "### 비교적 최신 데이터\n",
    "\n",
    "csv 파일 형식\n",
    "\n",
    "column 항목\n",
    "\n",
    "* id: 확진자 id\n",
    "* global_num: n번째 확진자\n",
    "* sex: 성별\n",
    "* birth_year: 출생 연도\n",
    "* age: 나이\n",
    "* country: 국적\n",
    "* province: 방문지\n",
    "* city: 발생 도시\n",
    "* disease: 기저 질환\n",
    "* infection_case: 감염 종류\n",
    "* infection_order: 감염 차수 (n차 감염)\n",
    "* infected_by: 해당 확진자의 감염원 id\n",
    "* contact_number: 접촉자 수\n",
    "* symptom_onset_date: 증상 발현일\n",
    "* confirmed_date: 확진 일자\n",
    "* released_date: 퇴원 일자 (격리 해제 일자)\n",
    "* deceased_date: 사망 일자\n",
    "* state: 상태"
   ]
  },
  {
   "cell_type": "code",
   "execution_count": 2,
   "metadata": {},
   "outputs": [
    {
     "name": "stdout",
     "output_type": "stream",
     "text": [
      "[['patient_id',\n",
      "  'sex',\n",
      "  'age',\n",
      "  'country',\n",
      "  'province',\n",
      "  'city',\n",
      "  'infection_case',\n",
      "  'infected_by',\n",
      "  'contact_number',\n",
      "  'symptom_onset_date',\n",
      "  'confirmed_date',\n",
      "  'released_date',\n",
      "  'deceased_date',\n",
      "  'state'],\n",
      " ['1000000001',\n",
      "  'male',\n",
      "  '50s',\n",
      "  'Korea',\n",
      "  'Seoul',\n",
      "  'Gangseo-gu',\n",
      "  'overseas inflow',\n",
      "  '',\n",
      "  '75',\n",
      "  '2020-01-22',\n",
      "  '2020-01-23',\n",
      "  '2020-02-05',\n",
      "  '',\n",
      "  'released'],\n",
      " ['1000000002',\n",
      "  'male',\n",
      "  '30s',\n",
      "  'Korea',\n",
      "  'Seoul',\n",
      "  'Jungnang-gu',\n",
      "  'overseas inflow',\n",
      "  '',\n",
      "  '31',\n",
      "  '',\n",
      "  '2020-01-30',\n",
      "  '2020-03-02',\n",
      "  '',\n",
      "  'released']]\n"
     ]
    }
   ],
   "source": [
    "import csv\n",
    "import pprint\n",
    "\n",
    "#%matplotlib notebook\n",
    "\n",
    "from matplotlib import pyplot as plt\n",
    "import numpy as np\n",
    "\n",
    "#file path\n",
    "data_covid19 =\"COVID19 data/PatientInfo.csv\"\n",
    "\n",
    "with open(data_covid19) as file:\n",
    "    reader = csv.reader(file)  # CSV 파일을 읽어들이는 읽기 객체\n",
    "    raw = list(reader)      #  CSV 파일 내용을 리스트로 읽어들인다\n",
    "\n",
    "pprint.pprint(raw[:3])  # 읽어들인 내용을 화면에 출력"
   ]
  },
  {
   "cell_type": "code",
   "execution_count": 3,
   "metadata": {},
   "outputs": [],
   "source": [
    "raw_=raw[1:]"
   ]
  },
  {
   "cell_type": "code",
   "execution_count": 4,
   "metadata": {},
   "outputs": [
    {
     "data": {
      "text/plain": [
       "5165"
      ]
     },
     "execution_count": 4,
     "metadata": {},
     "output_type": "execute_result"
    }
   ],
   "source": [
    "len(raw_)"
   ]
  },
  {
   "cell_type": "code",
   "execution_count": 5,
   "metadata": {},
   "outputs": [
    {
     "name": "stdout",
     "output_type": "stream",
     "text": [
      "사망자 : 78\n",
      "완치자 : 2929\n",
      "감염자 : 2158\n"
     ]
    }
   ],
   "source": [
    "# 사망자와 완치자의 수\n",
    "deceased = 0\n",
    "released = 0\n",
    "infected = 0\n",
    "\n",
    "for i in range(len(raw_)):\n",
    "    # status: 17\n",
    "    state_of_patient = raw_[i][13]\n",
    "    \n",
    "    if(state_of_patient == 'deceased'):\n",
    "        deceased = deceased + 1\n",
    "    elif(state_of_patient == 'released'):\n",
    "        released = released + 1\n",
    "    else:\n",
    "        infected = infected + 1\n",
    "        \n",
    "print(\"사망자 : \" + str(deceased))\n",
    "print(\"완치자 : \" + str(released))\n",
    "print(\"감염자 : \" + str(infected))"
   ]
  },
  {
   "cell_type": "code",
   "execution_count": 6,
   "metadata": {},
   "outputs": [
    {
     "data": {
      "image/png": "[encoded data removed]",
      "text/plain": [
       "<Figure size 432x288 with 1 Axes>"
      ]
     },
     "metadata": {},
     "output_type": "display_data"
    }
   ],
   "source": [
    "# The slices will be ordered and plotted counter-clockwise.\n",
    "type_of_patient_status = ['deceased', 'released', 'infected']\n",
    "\n",
    "num_of_patient_status = [deceased, released, infected]\n",
    "sum_of_patient = deceased + released + infected\n",
    "ratio_of_patient_status = []\n",
    "\n",
    "for i in range(len(num_of_patient_status)):\n",
    "    ratio_of_patient_status.append(num_of_patient_status[i] / sum_of_patient)\n",
    "\n",
    "for i in range(len(ratio_of_patient_status)):\n",
    "    type_of_patient_status[i] = type_of_patient_status[i] + \" : {0:0.0f}\".format(ratio_of_patient_status[i]*100)\n",
    "\n",
    "colors = ['lightcoral', 'yellowgreen', 'gold']\n",
    "\n",
    "patches, texts = plt.pie(ratio_of_patient_status, colors=colors, startangle=90)\n",
    "\n",
    "plt.legend(patches, type_of_patient_status, loc=\"best\")\n",
    "plt.axis('equal')\n",
    "plt.title(\"Num. of COVID 19 patients by status in South Korea\")\n",
    "# plt.show()\n",
    "\n",
    "plt.savefig(\"img/01_num_of_patients.png\")"
   ]
  },
  {
   "cell_type": "code",
   "execution_count": 7,
   "metadata": {},
   "outputs": [
    {
     "name": "stdout",
     "output_type": "stream",
     "text": [
      "어린이 확진자 : 66\n",
      "10대 확진자 : 178\n",
      "20대 확진자 : 899\n",
      "30대 확진자 : 523\n",
      "40대 확진자 : 518\n",
      "50대 확진자 : 667\n",
      "60대 확진자 : 482\n",
      "70대 확진자 : 232\n",
      "80대 확진자 : 170\n",
      "90대 확진자 : 2\n",
      "100세 이상 확진자 : 1\n",
      "나이 미상 확진자 : 1380\n"
     ]
    }
   ],
   "source": [
    "\n",
    "# 나이대별 확진자의 수\n",
    "age000 = 0\n",
    "age010 = 0\n",
    "age020 = 0\n",
    "age030 = 0\n",
    "age040 = 0\n",
    "age050 = 0\n",
    "age060 = 0\n",
    "age070 = 0\n",
    "age080 = 0\n",
    "age090 = 0\n",
    "age100 = 0\n",
    "unknown_age = 0\n",
    "\n",
    "for i in range(len(raw_)):\n",
    "    \n",
    "    # age: 2\n",
    "    age_data = raw_[i][2]\n",
    "    if(age_data == '' or age_data == ' '):\n",
    "        unknown_age = unknown_age + 1\n",
    "    else:\n",
    "        if('0s'== age_data):\n",
    "            age000 = age000 + 1\n",
    "        elif('10s' == age_data):\n",
    "            age010 = age010 + 1\n",
    "        elif('20s' == age_data):\n",
    "            age020 = age020 + 1\n",
    "        elif('30s' == age_data):\n",
    "            age030 = age030 + 1\n",
    "        elif('40s' == age_data):\n",
    "            age040 = age040 + 1\n",
    "        elif('50s' == age_data):\n",
    "            age050 = age050 + 1\n",
    "        elif('60s' == age_data):\n",
    "            age060 = age060 + 1\n",
    "        elif('70s' == age_data):\n",
    "            age070 = age070 + 1\n",
    "        elif('80s' == age_data):\n",
    "            age080 = age080 + 1\n",
    "        elif('90s' == age_data):\n",
    "            age090 = age100 + 1\n",
    "        else:\n",
    "            age100 = age100 + 1\n",
    "            \n",
    "print(\"어린이 확진자 : \" + str(age000))\n",
    "print(\"10대 확진자 : \" + str(age010))\n",
    "print(\"20대 확진자 : \" + str(age020))\n",
    "print(\"30대 확진자 : \" + str(age030))\n",
    "print(\"40대 확진자 : \" + str(age040))\n",
    "print(\"50대 확진자 : \" + str(age050))\n",
    "print(\"60대 확진자 : \" + str(age060))\n",
    "print(\"70대 확진자 : \" + str(age070))\n",
    "print(\"80대 확진자 : \" + str(age080))\n",
    "print(\"90대 확진자 : \" + str(age090))\n",
    "print(\"100세 이상 확진자 : \" + str(age100))\n",
    "print(\"나이 미상 확진자 : \" + str(unknown_age))\n",
    "\n"
   ]
  },
  {
   "cell_type": "code",
   "execution_count": 8,
   "metadata": {},
   "outputs": [
    {
     "data": {
      "image/png": "[encoded data removed]",
      "text/plain": [
       "<Figure size 432x288 with 1 Axes>"
      ]
     },
     "metadata": {
      "needs_background": "light"
     },
     "output_type": "display_data"
    }
   ],
   "source": [
    "\n",
    "# draw bar chart\n",
    "type_of_age = ['kid', '10s', '20s', '30s', '40s', '50s', '60s', '70s', '80s', '90s', '>100s']\n",
    "patient_age = [age000, age010, age020, age030, age040, age050, age060, age070, age080, age090, age100]\n",
    "\n",
    "y_pos = [i for i, _ in enumerate(type_of_age)]\n",
    "\n",
    "plt.barh(y_pos, patient_age, color='teal')\n",
    "plt.ylabel(\"ages\")\n",
    "plt.xlabel(\"number of patients\")\n",
    "plt.title(\"Num. of COVID 19 patients by age group in South Korea\")\n",
    "\n",
    "plt.yticks(y_pos, type_of_age)\n",
    "\n",
    "plt.tight_layout()\n",
    "\n",
    "for i, v in enumerate(patient_age):\n",
    "    x_axis_txt_mover = 60\n",
    "    y_axis_txt_mover = .15\n",
    "    txt_color = 'white'\n",
    "    \n",
    "    if(v < 100):\n",
    "        x_axis_txt_mover = -10\n",
    "        txt_color = 'black'\n",
    "    \n",
    "    plt.text(v - x_axis_txt_mover, i - y_axis_txt_mover, str(v), color=txt_color, fontweight='bold')\n",
    "\n",
    "#plt.show()\n",
    "plt.savefig(\"img/02_age_group\")"
   ]
  },
  {
   "cell_type": "code",
   "execution_count": 9,
   "metadata": {},
   "outputs": [
    {
     "name": "stdout",
     "output_type": "stream",
     "text": [
      "전체 확진자 중 10대의 비율 : 7.548770144189991%\n"
     ]
    }
   ],
   "source": [
    "\n",
    "ratio_of_20s = age010 / (sum(patient_age)-unknown_age)\n",
    "print(\"전체 확진자 중 10대의 비율 : \" + str(ratio_of_20s * 100) + \"%\")\n"
   ]
  },
  {
   "cell_type": "code",
   "execution_count": 10,
   "metadata": {},
   "outputs": [
    {
     "name": "stdout",
     "output_type": "stream",
     "text": [
      "개학 이후 10대 확진자 수 : 20\n",
      "개학 이전 10대 확진자 수 : 158\n",
      "개학 이후 10대 제외 확진자 수 : 318\n",
      "개학 이전 10대 제외 확진자 수 : 3289\n",
      "5.9\n",
      "4.6\n"
     ]
    }
   ],
   "source": [
    "\n",
    "# 감염 날짜에 따른 10대 확진자 확인\n",
    "bss_10s_date = []\n",
    "ass_10s_date = []\n",
    "ass_ex10s_num = 0\n",
    "bss_ex10s_num = 0\n",
    "\n",
    "starting_school_date = \"2020-05-20\"\n",
    "\n",
    "for i in range(len(raw_)):\n",
    "    \n",
    "    trg_data = raw_[i]\n",
    "    # confirm_date: 10\n",
    "    date = trg_data[10] \n",
    "    # age: 2\n",
    "    age_data = trg_data[2]\n",
    "    \n",
    "    if age_data == '' or age_data == ' ':\n",
    "        pass\n",
    "    else:\n",
    "        if(age_data == '10s'):\n",
    "            if(date >= starting_school_date):\n",
    "                ass_10s_date.append(trg_data)\n",
    "            elif(date < starting_school_date):\n",
    "                bss_10s_date.append(trg_data)\n",
    "        else:\n",
    "            if(date >= starting_school_date):\n",
    "                ass_ex10s_num += 1\n",
    "            elif(date < starting_school_date):\n",
    "                bss_ex10s_num += 1\n",
    "                \n",
    "ass_10s_num = len(ass_10s_date)\n",
    "bss_10s_num = len(bss_10s_date)\n",
    "\n",
    "print(\"개학 이후 10대 확진자 수 : \" + str(ass_10s_num))\n",
    "print(\"개학 이전 10대 확진자 수 : \" + str(bss_10s_num))\n",
    "print(\"개학 이후 10대 제외 확진자 수 : \" + str(ass_ex10s_num))\n",
    "print(\"개학 이전 10대 제외 확진자 수 : \" + str(bss_ex10s_num))\n",
    "\n",
    "\n",
    "sum_ass = ass_10s_num + ass_ex10s_num\n",
    "sum_bss = bss_10s_num + bss_ex10s_num\n",
    "\n",
    "ass_10_p_p = round(((ass_10s_num / sum_ass) * 100),1)\n",
    "\n",
    "bss_10_p_p = round(((bss_10s_num / sum_bss) * 100),1)\n",
    "\n",
    "print(ass_10_p_p)\n",
    "print(bss_10_p_p)"
   ]
  },
  {
   "cell_type": "code",
   "execution_count": 11,
   "metadata": {},
   "outputs": [
    {
     "data": {
      "text/plain": [
       "95.41630403249202"
      ]
     },
     "execution_count": 11,
     "metadata": {},
     "output_type": "execute_result"
    }
   ],
   "source": [
    "bss_ex10s_num / sum_bss * 100"
   ]
  },
  {
   "cell_type": "code",
   "execution_count": 12,
   "metadata": {
    "scrolled": false
   },
   "outputs": [
    {
     "data": {
      "image/png": "[encoded data removed]",
      "text/plain": [
       "<Figure size 432x288 with 1 Axes>"
      ]
     },
     "metadata": {
      "needs_background": "light"
     },
     "output_type": "display_data"
    }
   ],
   "source": [
    "x_axis_text = ['before', 'after']\n",
    "\n",
    "ex10s_patient_list = [100 - ass_10_p_p, 100 - bss_10_p_p]\n",
    "\n",
    "patient_10s_list = [bss_10_p_p, \n",
    "                    ass_10_p_p]\n",
    "\n",
    "plt.xticks([0, 1], x_axis_text)\n",
    "\n",
    "plt.bar(range(len(ex10s_patient_list)), ex10s_patient_list, color='bisque') \n",
    "plt.bar(range(len(patient_10s_list)), patient_10s_list, bottom=ex10s_patient_list, color='coral')\n",
    "\n",
    "plt.title(\"Num. of COVID 19 patients by starting school in South Korea\")\n",
    "plt.ylabel(\"ratio of num. patients [%]\")\n",
    "plt.xlabel(\"starting school\")\n",
    "plt.legend(['except 10s', '10s'])\n",
    "\n",
    "plt.ylim([0, 100])\n",
    "\n",
    "for i, v in enumerate(ex10s_patient_list):\n",
    "    x_axis_txt_mover = 0.08\n",
    "    y_axis_txt_mover = 6\n",
    "    plt.text(i - x_axis_txt_mover, v - y_axis_txt_mover, round(patient_10s_list[i],1), color='coral', fontweight='bold')\n",
    "    \n",
    "#plt.show()\n",
    "\n",
    "plt.savefig(\"img/03_starting_school_10s_ratio.png\")"
   ]
  },
  {
   "cell_type": "markdown",
   "metadata": {},
   "source": [
    "### 10대의 감염원인 찾기\n",
    "\n",
    "* 개학전 10대 환자 리스트 : bss_10s_date\n",
    "* 개학후 10대 환자 리스트 : ass_10s_date\n",
    "* infection case : 6"
   ]
  },
  {
   "cell_type": "code",
   "execution_count": 13,
   "metadata": {},
   "outputs": [
    {
     "data": {
      "text/plain": [
       "['1000000863',\n",
       " 'male',\n",
       " '10s',\n",
       " 'Korea',\n",
       " 'Seoul',\n",
       " 'Yangcheon-gu',\n",
       " 'overseas inflow',\n",
       " '',\n",
       " '',\n",
       " '',\n",
       " '2020-06-01',\n",
       " '',\n",
       " '',\n",
       " 'released']"
      ]
     },
     "execution_count": 13,
     "metadata": {},
     "output_type": "execute_result"
    }
   ],
   "source": [
    "ass_10s_date[0]"
   ]
  },
  {
   "cell_type": "code",
   "execution_count": 14,
   "metadata": {},
   "outputs": [],
   "source": [
    "#개학 전 10대 확진자의 감염 원인(한재이)\n",
    "bss_10_case_list = []\n",
    "bss_10_case_num_list =[]\n",
    "\n",
    "for i in bss_10s_date:\n",
    "    if i[6] in bss_10_case_list:\n",
    "        pass\n",
    "    else:\n",
    "        bss_10_case_list.append(i[6])\n",
    "        bss_10_case_num_list.append(0)\n",
    "        \n",
    "#개학 후 10대 확진자의 감염 원인\n",
    "ass_10_case_list = []\n",
    "ass_10_case_num_list =[]\n",
    "\n",
    "for i in ass_10s_date:\n",
    "    if i[6] in ass_10_case_list:\n",
    "        pass\n",
    "    else:\n",
    "        ass_10_case_list.append(i[6])\n",
    "        ass_10_case_num_list.append(0)\n",
    "        "
   ]
  },
  {
   "cell_type": "code",
   "execution_count": 22,
   "metadata": {},
   "outputs": [],
   "source": [
    "# 개학 전 10대 확진자의 감연 원인 수 확인 \n",
    "for i in bss_10s_date:\n",
    "    \n",
    "    tmp_infection_case = i[6]\n",
    "    \n",
    "    for j in range(len(bss_10_case_list)):\n",
    "        \n",
    "        if tmp_infection_case == bss_10_case_list[j] and (tmp_infection_case == 'etc' or tmp_infection_case == ''):\n",
    "            bss_10_case_num_list[2] += 1\n",
    "        \n",
    "        elif tmp_infection_case == bss_10_case_list[j]:\n",
    "            bss_10_case_num_list[j] += 1\n",
    "    \n",
    "\n",
    "del bss_10_case_list[-3]\n",
    "del bss_10_case_num_list[-3]"
   ]
  },
  {
   "cell_type": "code",
   "execution_count": 28,
   "metadata": {},
   "outputs": [
    {
     "data": {
      "text/plain": [
       "['overseas inflow']"
      ]
     },
     "execution_count": 28,
     "metadata": {},
     "output_type": "execute_result"
    }
   ],
   "source": [
    "# 개학 후 10대 \n",
    "for i in ass_10s_date:\n",
    "    tmp_infection_case = i[6]\n",
    "    for j in range(len(ass_10_case_list)):\n",
    "        if tmp_infection_case == ass_10_case_list[j] and (tmp_infection_case == 'etc' or tmp_infection_case == ''):\n",
    "            ass_10_case_num_list[1] += 1\n",
    "        \n",
    "        elif tmp_infection_case == ass_10_case_list[j]:\n",
    "            ass_10_case_num_list[j] += 1\n",
    "del ass_10_case_list[2]\n",
    "del ass_10_case_num_list[2]"
   ]
  },
  {
   "cell_type": "code",
   "execution_count": null,
   "metadata": {},
   "outputs": [],
   "source": []
  },
  {
   "cell_type": "code",
   "execution_count": 18,
   "metadata": {},
   "outputs": [
    {
     "ename": "SyntaxError",
     "evalue": "invalid syntax (<ipython-input-18-9bd85631691b>, line 32)",
     "output_type": "error",
     "traceback": [
      "\u001b[1;36m  File \u001b[1;32m\"<ipython-input-18-9bd85631691b>\"\u001b[1;36m, line \u001b[1;32m32\u001b[0m\n\u001b[1;33m    <IPython.core.display.Javascript object>\u001b[0m\n\u001b[1;37m    ^\u001b[0m\n\u001b[1;31mSyntaxError\u001b[0m\u001b[1;31m:\u001b[0m invalid syntax\n"
     ]
    }
   ],
   "source": [
    "#개학 전 10대 확진자의 감염 원인 수 확인 그래프\n",
    "# draw bar chart\n",
    "infection_case = bss_10_case_list\n",
    "num_of_case = bss_10_case_num_list\n",
    "\n",
    "y_pos = [i for i, _ in enumerate(infection_case)]\n",
    "\n",
    "plt.barh(y_pos, num_of_case, color='slateblue')\n",
    "plt.ylabel(\"infection case\")\n",
    "plt.xlabel(\"number of patients\")\n",
    "plt.title(\"Num. of COVID 19 patients 10s by infection case\" + \"\\n\" + \"before school in South Korea\")\n",
    "\n",
    "plt.yticks(y_pos, infection_case)\n",
    "plt.xlim([0, 90])\n",
    "\n",
    "plt.tight_layout()\n",
    "\n",
    "for i, v in enumerate(num_of_case):\n",
    "    x_axis_txt_mover = 60\n",
    "    y_axis_txt_mover = .15\n",
    "    txt_color = 'white'\n",
    "    \n",
    "    if(v < 100):\n",
    "        x_axis_txt_mover = -2\n",
    "        txt_color = 'black'\n",
    "    \n",
    "    plt.text(v - x_axis_txt_mover, i - y_axis_txt_mover, str(v), color=txt_color, fontweight='bold')\n",
    "\n",
    "plt.show()\n",
    "\n",
    "plt.savefig(\"img/04_10s_case_BSS.png\")"
   ]
  },
  {
   "cell_type": "code",
   "execution_count": 19,
   "metadata": {},
   "outputs": [
    {
     "ename": "NameError",
     "evalue": "name 'infection_case_of_10s_patient_in_ASS' is not defined",
     "output_type": "error",
     "traceback": [
      "\u001b[1;31m---------------------------------------------------------------------------\u001b[0m",
      "\u001b[1;31mNameError\u001b[0m                                 Traceback (most recent call last)",
      "\u001b[1;32m<ipython-input-19-b531c231ae93>\u001b[0m in \u001b[0;36m<module>\u001b[1;34m\u001b[0m\n\u001b[0;32m      1\u001b[0m \u001b[1;31m# 개학 후 10대 확진자의 감염 원인 수 확인 그래프\u001b[0m\u001b[1;33m\u001b[0m\u001b[1;33m\u001b[0m\u001b[1;33m\u001b[0m\u001b[0m\n\u001b[0;32m      2\u001b[0m \u001b[1;31m# draw bar chart\u001b[0m\u001b[1;33m\u001b[0m\u001b[1;33m\u001b[0m\u001b[1;33m\u001b[0m\u001b[0m\n\u001b[1;32m----> 3\u001b[1;33m \u001b[0minfection_case\u001b[0m \u001b[1;33m=\u001b[0m \u001b[0minfection_case_of_10s_patient_in_ASS\u001b[0m\u001b[1;33m\u001b[0m\u001b[1;33m\u001b[0m\u001b[0m\n\u001b[0m\u001b[0;32m      4\u001b[0m \u001b[0mnum_of_case\u001b[0m \u001b[1;33m=\u001b[0m \u001b[0mnum_infection_case_of_10s_patient_in_ASS\u001b[0m\u001b[1;33m\u001b[0m\u001b[1;33m\u001b[0m\u001b[0m\n\u001b[0;32m      5\u001b[0m \u001b[1;33m\u001b[0m\u001b[0m\n",
      "\u001b[1;31mNameError\u001b[0m: name 'infection_case_of_10s_patient_in_ASS' is not defined"
     ]
    }
   ],
   "source": [
    "\n",
    "# 개학 후 10대 확진자의 감염 원인 수 확인 그래프\n",
    "# draw bar chart\n",
    "infection_case = ass_10_case_list\n",
    "num_of_case = ass_10_case_num_list\n",
    "\n",
    "y_pos = [i for i, _ in enumerate(infection_case)]\n",
    "\n",
    "plt.barh(y_pos, num_of_case, color='slateblue')\n",
    "plt.ylabel(\"infection case\")\n",
    "plt.xlabel(\"number of patients\")\n",
    "plt.title(\"Num. of COVID 19 patients 10s by infection case\" + \"\\n\" + \"after school in South Korea\")\n",
    "\n",
    "plt.yticks(y_pos, infection_case)\n",
    "plt.xlim([0, 20])\n",
    "\n",
    "plt.tight_layout()\n",
    "\n",
    "for i, v in enumerate(num_of_case):\n",
    "    x_axis_txt_mover = 60\n",
    "    y_axis_txt_mover = .15\n",
    "    txt_color = 'white'\n",
    "    \n",
    "    if(v < 100):\n",
    "        x_axis_txt_mover = -0.5\n",
    "        txt_color = 'black'\n",
    "    \n",
    "    plt.text(v - x_axis_txt_mover, i - y_axis_txt_mover, str(v), color=txt_color, fontweight='bold')\n",
    "\n",
    "plt.show()\n",
    "\n",
    "plt.savefig(\"img/05_10s_case_ASS.png\")"
   ]
  },
  {
   "cell_type": "markdown",
   "metadata": {},
   "source": [
    "# 확진자 지도에 표기하기\n",
    "\n",
    "csv 파일 형식\n",
    "column 항목\n",
    "\n",
    "* 환자 id\n",
    "* global num.\n",
    "* 날짜\n",
    "* 도 이름\n",
    "* 도시 이름\n",
    "* 감염 장소\n",
    "* 위도\n",
    "* 경도\n"
   ]
  },
  {
   "cell_type": "code",
   "execution_count": 33,
   "metadata": {},
   "outputs": [
    {
     "name": "stdout",
     "output_type": "stream",
     "text": [
      "[['patient_id', 'date', 'province', 'city', 'type', 'latitude', 'longitude'],\n",
      " ['1000000001',\n",
      "  '2020-01-22',\n",
      "  'Gyeonggi-do',\n",
      "  'Gimpo-si',\n",
      "  'airport',\n",
      "  '37.61525',\n",
      "  '126.7156'],\n",
      " ['1000000001',\n",
      "  '2020-01-24',\n",
      "  'Seoul',\n",
      "  'Jung-gu',\n",
      "  'hospital',\n",
      "  '37.56724',\n",
      "  '127.0057']]\n"
     ]
    }
   ],
   "source": [
    "# define file path\n",
    "file_path_for_pos = 'COVID19 data/PatientRoute.csv'\n",
    "\n",
    "# open patient.csv data\n",
    "with open(file_path_for_pos) as file:\n",
    "    reader = csv.reader(file)         # read CSV file\n",
    "    raw_pos = list(reader)            # CSV file convert to list type\n",
    "\n",
    "pprint.pprint(raw_pos[:3])            # print somw column in CSV\n",
    "\n",
    "raw_pos_ = raw_pos[1:]"
   ]
  },
  {
   "cell_type": "code",
   "execution_count": 34,
   "metadata": {},
   "outputs": [
    {
     "ename": "NameError",
     "evalue": "name 'data_of_10s_patient_in_BSS' is not defined",
     "output_type": "error",
     "traceback": [
      "\u001b[0;31m---------------------------------------------------------------------------\u001b[0m",
      "\u001b[0;31mNameError\u001b[0m                                 Traceback (most recent call last)",
      "\u001b[0;32m<ipython-input-34-c7000510c7bc>\u001b[0m in \u001b[0;36m<module>\u001b[0;34m\u001b[0m\n\u001b[1;32m      8\u001b[0m \u001b[0;32mfor\u001b[0m \u001b[0mi\u001b[0m \u001b[0;32min\u001b[0m \u001b[0mrange\u001b[0m\u001b[0;34m(\u001b[0m\u001b[0mlen\u001b[0m\u001b[0;34m(\u001b[0m\u001b[0mraw_pos_\u001b[0m\u001b[0;34m)\u001b[0m\u001b[0;34m)\u001b[0m\u001b[0;34m:\u001b[0m\u001b[0;34m\u001b[0m\u001b[0;34m\u001b[0m\u001b[0m\n\u001b[1;32m      9\u001b[0m     \u001b[0mtmp_pos_data\u001b[0m \u001b[0;34m=\u001b[0m \u001b[0mraw_pos_\u001b[0m\u001b[0;34m[\u001b[0m\u001b[0mi\u001b[0m\u001b[0;34m]\u001b[0m\u001b[0;34m\u001b[0m\u001b[0;34m\u001b[0m\u001b[0m\n\u001b[0;32m---> 10\u001b[0;31m     \u001b[0;32mfor\u001b[0m \u001b[0mj\u001b[0m \u001b[0;32min\u001b[0m \u001b[0mdata_of_10s_patient_in_BSS\u001b[0m\u001b[0;34m:\u001b[0m\u001b[0;34m\u001b[0m\u001b[0;34m\u001b[0m\u001b[0m\n\u001b[0m\u001b[1;32m     11\u001b[0m         \u001b[0;32mif\u001b[0m\u001b[0;34m(\u001b[0m\u001b[0mtmp_pos_data\u001b[0m\u001b[0;34m[\u001b[0m\u001b[0;36m0\u001b[0m\u001b[0;34m]\u001b[0m \u001b[0;34m==\u001b[0m \u001b[0mj\u001b[0m\u001b[0;34m[\u001b[0m\u001b[0;36m0\u001b[0m\u001b[0;34m]\u001b[0m\u001b[0;34m)\u001b[0m\u001b[0;34m:\u001b[0m\u001b[0;34m\u001b[0m\u001b[0;34m\u001b[0m\u001b[0m\n\u001b[1;32m     12\u001b[0m             \u001b[0mpos_10s_patient_BSS\u001b[0m\u001b[0;34m[\u001b[0m\u001b[0;34m'id'\u001b[0m\u001b[0;34m]\u001b[0m\u001b[0;34m.\u001b[0m\u001b[0mappend\u001b[0m\u001b[0;34m(\u001b[0m\u001b[0mtmp_pos_data\u001b[0m\u001b[0;34m[\u001b[0m\u001b[0;36m0\u001b[0m\u001b[0;34m]\u001b[0m\u001b[0;34m)\u001b[0m\u001b[0;34m\u001b[0m\u001b[0;34m\u001b[0m\u001b[0m\n",
      "\u001b[0;31mNameError\u001b[0m: name 'data_of_10s_patient_in_BSS' is not defined"
     ]
    }
   ],
   "source": [
    "pos_10s_patient_BSS = {'id'        : [],\n",
    "                       'province'  : [],\n",
    "                       'city'      : [],\n",
    "                       'type'     : [],\n",
    "                       'latitude'  : [],\n",
    "                       'longitude' : []}\n",
    "\n",
    "for i in range(len(raw_pos_)):\n",
    "    \n",
    "    tmp_pos_data = raw_pos_[i]\n",
    "    \n",
    "    for j in bss_10s_date:\n",
    "        \n",
    "        if(tmp_pos_data[0] == j[0]):\n",
    "            pos_10s_patient_BSS['id'].append(tmp_pos_data[0])\n",
    "            pos_10s_patient_BSS['province'].append(tmp_pos_data[2])\n",
    "            pos_10s_patient_BSS['city'].append(tmp_pos_data[3])\n",
    "            pos_10s_patient_BSS['type'].append(tmp_pos_data[4])\n",
    "            pos_10s_patient_BSS['latitude'].append(tmp_pos_data[5])\n",
    "            pos_10s_patient_BSS['longitude'].append(tmp_pos_data[6])"
   ]
  },
  {
   "cell_type": "code",
   "execution_count": null,
   "metadata": {},
   "outputs": [],
   "source": [
    "# after starting school\n",
    "pos_10s_patient_ASS = {'id'        : [],\n",
    "                       'province'  : [],\n",
    "                       'city'      : [],\n",
    "                       'type'     : [],\n",
    "                       'latitude'  : [],\n",
    "                       'longitude' : []}\n",
    "\n",
    "for i in range(len(raw_pos_)):\n",
    "    tmp_pos_data = raw_pos_[i]\n",
    "    for j in data_of_10s_patient_in_ASS:\n",
    "        if(tmp_pos_data[0] == j[0]):\n",
    "            pos_10s_patient_ASS['id'].append(tmp_pos_data[0])\n",
    "            pos_10s_patient_ASS['province'].append(tmp_pos_data[2])\n",
    "            pos_10s_patient_ASS['city'].append(tmp_pos_data[3])\n",
    "            pos_10s_patient_ASS['type'].append(tmp_pos_data[4])\n",
    "            pos_10s_patient_ASS['latitude'].append(tmp_pos_data[5])\n",
    "            pos_10s_patient_ASS['longitude'].append(tmp_pos_data[6])"
   ]
  },
  {
   "cell_type": "code",
   "execution_count": 35,
   "metadata": {},
   "outputs": [],
   "source": [
    "import folium"
   ]
  },
  {
   "cell_type": "code",
   "execution_count": 36,
   "metadata": {},
   "outputs": [],
   "source": [
    "southkorea_map = folium.Map(location=[36.55,126.983333], zoom_start=7,\n",
    "                            titles='loation of 10s patient in South Korea before starting school')"
   ]
  },
  {
   "cell_type": "code",
   "execution_count": 37,
   "metadata": {},
   "outputs": [],
   "source": [
    "zip_tmp_data = zip(pos_10s_patient_BSS['latitude'], \n",
    "                   pos_10s_patient_BSS['longitude'], \n",
    "                   pos_10s_patient_BSS['province'], \n",
    "                   pos_10s_patient_BSS['city'], \n",
    "                   pos_10s_patient_BSS['type'])\n",
    "\n",
    "for lat, lon, province, city, visit in zip_tmp_data:\n",
    "    popup_data = folium.map.Popup(html = ('<b>' + 'Province: ' + '</b>' + str(province) + '<br>' + \n",
    "                                          '<b>' + 'City: ' + '</b>' + str(city) + '<br>' + \n",
    "                                          '<b>' + 'type: ' + '</b>' + str(visit) + '<br>'),\n",
    "                                  max_width = 250)\n",
    "    folium.CircleMarker([lat, lon],\n",
    "                        radius=5,\n",
    "                        color='red',\n",
    "                        popup =popup_data,\n",
    "                        fill_color='red',\n",
    "                        fill_opacity=0.5 ).add_to(southkorea_map)"
   ]
  },
  {
   "cell_type": "code",
   "execution_count": null,
   "metadata": {},
   "outputs": [],
   "source": [
    "southkorea_map.save('COVID_19_10s_patient_BSS_in_South_Korea.html')"
   ]
  },
  {
   "cell_type": "code",
   "execution_count": null,
   "metadata": {},
   "outputs": [],
   "source": [
    "\n",
    "southkorea_map = folium.Map(location=[36.55,126.983333], zoom_start=7,\n",
    "                            titles='loation of 10s patient in South Korea after starting school')"
   ]
  },
  {
   "cell_type": "code",
   "execution_count": null,
   "metadata": {},
   "outputs": [],
   "source": [
    "zip_tmp_data = zip(pos_10s_patient_ASS['latitude'], \n",
    "                   pos_10s_patient_ASS['longitude'], \n",
    "                   pos_10s_patient_ASS['province'], \n",
    "                   pos_10s_patient_ASS['city'], \n",
    "                   pos_10s_patient_ASS['type'])\n",
    "\n",
    "for lat, lon, province, city, visit in zip_tmp_data:\n",
    "    popup_data = folium.map.Popup(html = ('<b>' + 'Province: ' + '</b>' + str(province) + '<br>' + \n",
    "                                          '<b>' + 'City: ' + '</b>' + str(city) + '<br>' + \n",
    "                                          '<b>' + 'type: ' + '</b>' + str(visit) + '<br>'),\n",
    "                                  max_width = 250)\n",
    "    folium.CircleMarker([lat, lon],\n",
    "                        radius=5,\n",
    "                        color='red',\n",
    "                        popup =popup_data,\n",
    "                        fill_color='red',\n",
    "                        fill_opacity=0.5 ).add_to(southkorea_map)"
   ]
  },
  {
   "cell_type": "code",
   "execution_count": null,
   "metadata": {},
   "outputs": [],
   "source": [
    "southkorea_map.save('COVID_19_10s_patient_ASS_in_South_Korea.html')"
   ]
  },
  {
   "cell_type": "code",
   "execution_count": null,
   "metadata": {},
   "outputs": [],
   "source": [
    "southkorea_map = folium.Map(location=[36.55,126.983333], zoom_start=7,\n",
    "                            titles='loation of 10s patient in South Korea')\n"
   ]
  },
  {
   "cell_type": "code",
   "execution_count": null,
   "metadata": {},
   "outputs": [],
   "source": [
    "zip_tmp_data = zip((pos_10s_patient_BSS['latitude']  + pos_10s_patient_ASS['latitude']), \n",
    "                   (pos_10s_patient_BSS['longitude'] + pos_10s_patient_ASS['longitude']), \n",
    "                   (pos_10s_patient_BSS['province']  + pos_10s_patient_ASS['province']), \n",
    "                   (pos_10s_patient_BSS['city']      + pos_10s_patient_ASS['city']), \n",
    "                   (pos_10s_patient_BSS['type']     + pos_10s_patient_ASS['type']))\n",
    "\n",
    "for lat, lon, province, city, visit in zip_tmp_data:\n",
    "    popup_data = folium.map.Popup(html = ('<b>' + 'Province: ' + '</b>' + str(province) + '<br>' + \n",
    "                                          '<b>' + 'City: ' + '</b>' + str(city) + '<br>' + \n",
    "                                          '<b>' + 'type: ' + '</b>' + str(visit) + '<br>'),\n",
    "                                  max_width = 250)\n",
    "    folium.CircleMarker([lat, lon],\n",
    "                        radius=5,\n",
    "                        color='red',\n",
    "                        popup =popup_data,\n",
    "                        fill_color='red',\n",
    "                        fill_opacity=0.5 ).add_to(southkorea_map)"
   ]
  },
  {
   "cell_type": "code",
   "execution_count": null,
   "metadata": {},
   "outputs": [],
   "source": [
    "southkorea_map.save('COVID_19_10s_patient_in_South_Korea.html')\n"
   ]
  }
 ],
 "metadata": {
  "kernelspec": {
   "display_name": "Python 3",
   "language": "python",
   "name": "python3"
  },
  "language_info": {
   "codemirror_mode": {
    "name": "ipython",
    "version": 3
   },
   "file_extension": ".py",
   "mimetype": "text/x-python",
   "name": "python",
   "nbconvert_exporter": "python",
   "pygments_lexer": "ipython3",
   "version": "3.7.3"
  }
 },
 "nbformat": 4,
 "nbformat_minor": 2
}
